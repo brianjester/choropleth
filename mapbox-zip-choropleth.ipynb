{
 "cells": [
  {
   "cell_type": "markdown",
   "metadata": {},
   "source": [
    "# Zipcode Choropleth with Plotly, Pandas and Mapbox"
   ]
  },
  {
   "cell_type": "markdown",
   "metadata": {},
   "source": [
    "In this tutorial, we will be creating a choropleth of San Diego's Zipcodes based on Zillow's Price-to-Rent Ratio.\n"
   ]
  },
  {
   "cell_type": "markdown",
   "metadata": {},
   "source": [
    "#### Mapbox Access Token"
   ]
  },
  {
   "cell_type": "markdown",
   "metadata": {},
   "source": [
    "To plot on Mapbox maps with Plotly you'll need a Mapbox account and a [Mapbox Access Token](https://www.mapbox.com/studio) which you can add to your [Plotly settings](https://plot.ly/settings/mapbox). If you're using a Chart Studio Enterprise server, please see additional instructions here: https://help.plot.ly/mapbox-atlas/. "
   ]
  },
  {
   "cell_type": "markdown",
   "metadata": {},
   "source": [
    "#### Read the Two Data Sets"
   ]
  },
  {
   "cell_type": "code",
   "execution_count": 8,
   "metadata": {},
   "outputs": [],
   "source": [
    "import plotly\n",
    "import pandas as pd\n",
    "import string\n",
    "import urllib\n",
    "\n",
    "ratio_url = 'file:///Users/brian/Zillow/sdZip_PriceToRentRatio_AllHomes.csv'\n",
    "geo_data_url = 'file:///Users/brian/Zillow/SanDiegoZipCodes.geojson'\n",
    "\n",
    "ratio_data = pd.read_csv(ratio_url)\n",
    "ratio_data.columns = ['RegionName','City', 'State','CountyName','Ratio']\n",
    "\n",
    "geo_data = pd.read_json(geo_data_url)\n"
   ]
  },
  {
   "cell_type": "markdown",
   "metadata": {},
   "source": [
    "#### Bucket Data, Create stub GeoJson lists, Convert to Standared GeoJson"
   ]
  },
  {
   "cell_type": "code",
   "execution_count": 5,
   "metadata": {},
   "outputs": [
    {
     "name": "stdout",
     "output_type": "stream",
     "text": [
      "❤️  ❤️  . 💚 🧡  🧡  ❤️  ❤️  . 🧡  🧡  🧡  ❤️  🧡  💛 . ❤️  ❤️  🧡  💛 . . ❤️  . 💛 💛 🧡  🧡  🧡  . 💛 🧡  . ❤️  💛 💚 ❤️  ❤️  ❤️  ❤️  ❤️  ❤️  🧡  🧡  💛 ❤️  🧡  🧡  ❤️  ❤️  🧡  ❤️  . 🧡  🧡  🧡  🧡  🧡  . . 🧡  ❤️  🧡  💛 💛 🧡  . ❤️  . . ❤️  🧡  . 🧡  ❤️  🧡  🧡  ❤️  . . . 🧡  🧡  ❤️  ❤️  ❤️  ❤️  💛 ❤️  ❤️  💛 ❤️  🧡  ❤️  💛 💛 🧡  ❤️  ❤️  ❤️  ❤️  ❤️  ❤️  . 💛 ❤️  . . 🧡  ❤️  ❤️  ❤️  ❤️  ❤️  ❤️  . . 💛 . . . .\n"
     ]
    }
   ],
   "source": [
    "# Define the buckets\n",
    "green_zips = ratio_data[ratio_data.Ratio <= 13]\n",
    "olive_zips = ratio_data[(ratio_data.Ratio > 13) & (ratio_data.Ratio < 15)]\n",
    "yellow_zips = ratio_data[(ratio_data.Ratio > 15) & (ratio_data.Ratio < 17)]\n",
    "orange_zips = ratio_data[(ratio_data.Ratio > 17) & (ratio_data.Ratio < 19)]\n",
    "red_zips = ratio_data[ratio_data.Ratio >= 19]\n",
    "\n",
    "# Define the stub lists that will contain the geo data (note this isn't in proper GeoJson format yet)\n",
    "green_geo = []\n",
    "olive_geo = []\n",
    "yellow_geo = []\n",
    "orange_geo = []\n",
    "red_geo = []\n",
    "\n",
    "# Create bucketed lists\n",
    "entryIndex=-1\n",
    "for entry in geo_data['features']:\n",
    "    entryIndex+=1\n",
    "    intZip = int(entry['properties']['zip'])\n",
    "    # Ensure bucket is not empty, and we have a \"hit\" for the entry zip in the bucket\n",
    "    if len(green_zips.index) > 0 and len(green_zips[green_zips.RegionName == intZip]) > 0:\n",
    "        print(\"💚\"),\n",
    "        green_geo.append(geo_data['features'][entryIndex])\n",
    "    elif len(olive_zips.index) > 0 and len(olive_zips[olive_zips.RegionName == intZip]) > 0:\n",
    "        print(\"🍸\"),\n",
    "        olive_geo.append(geo_data['features'][entryIndex])\n",
    "    elif len(yellow_zips.index) > 0 and len(yellow_zips[yellow_zips.RegionName == intZip]) > 0:\n",
    "        print(\"💛\"),\n",
    "        yellow_geo.append(geo_data['features'][entryIndex])\n",
    "    elif len(orange_zips.index) > 0 and len(orange_zips[orange_zips.RegionName == intZip]) > 0:\n",
    "        print(\"🧡 \"),\n",
    "        orange_geo.append(geo_data['features'][entryIndex])\n",
    "    elif len(red_zips.index) > 0 and len(red_zips[red_zips.RegionName == intZip]) > 0:\n",
    "        print(\"❤️ \"),\n",
    "        red_geo.append(geo_data['features'][entryIndex])\n",
    "    else:\n",
    "        print(\".\"),\n",
    "\n",
    "import json\n",
    "# Creating GeoJson standard files\n",
    "green_data = {\"type\": \"FeatureCollection\"}\n",
    "green_data['features'] = green_geo\n",
    "\n",
    "olive_data = {\"type\": \"FeatureCollection\"}\n",
    "olive_data['features'] = olive_geo\n",
    "\n",
    "yellow_data = {\"type\": \"FeatureCollection\"}\n",
    "yellow_data['features'] = yellow_geo\n",
    "\n",
    "orange_data = {\"type\": \"FeatureCollection\"}\n",
    "orange_data['features'] = orange_geo\n",
    "\n",
    "red_data = {\"type\": \"FeatureCollection\"}\n",
    "red_data['features'] = red_geo\n",
    "\n",
    "# Writing the new GeoJson files out (which we'll add/commit/push to GitHub)\n",
    "with open('sd-green-data.json', 'w') as f:\n",
    "    f.write(json.dumps(green_data))\n",
    "    \n",
    "with open('sd-olive-data.json', 'w') as f:\n",
    "    f.write(json.dumps(olive_data))\n",
    "    \n",
    "with open('sd-yellow-data.json', 'w') as f:\n",
    "    f.write(json.dumps(yellow_data))\n",
    "    \n",
    "with open('sd-orange-data.json', 'w') as f:\n",
    "    f.write(json.dumps(orange_data))\n",
    "    \n",
    "with open('sd-red-data.json', 'w') as f:\n",
    "    f.write(json.dumps(red_data))"
   ]
  },
  {
   "cell_type": "markdown",
   "metadata": {},
   "source": [
    "#### Choropleth of Zillow Price to Rent Ratio by San Diego County Zipcode"
   ]
  },
  {
   "cell_type": "markdown",
   "metadata": {},
   "source": [
    "Make sure to have a [Mapbox Access Tolken](https://www.mapbox.com/studio) for the generation of the plot. For more information on plotting Mapbox maps in Python, checkout the [documentation](https://plot.ly/python/scattermapbox/) "
   ]
  },
  {
   "cell_type": "code",
   "execution_count": 3,
   "metadata": {},
   "outputs": [
    {
     "name": "stderr",
     "output_type": "stream",
     "text": [
      "/Users/brian/anaconda2/lib/python2.7/site-packages/plotly/graph_objs/_deprecations.py:39: DeprecationWarning:\n",
      "\n",
      "plotly.graph_objs.Data is deprecated.\n",
      "Please replace it with a list or tuple of instances of the following types\n",
      "  - plotly.graph_objs.Scatter\n",
      "  - plotly.graph_objs.Bar\n",
      "  - plotly.graph_objs.Area\n",
      "  - plotly.graph_objs.Histogram\n",
      "  - etc.\n",
      "\n",
      "\n"
     ]
    },
    {
     "data": {
      "text/html": [
       "<iframe id=\"igraph\" scrolling=\"no\" style=\"border:none;\" seamless=\"seamless\" src=\"https://plot.ly/~brianjester/8.embed\" height=\"600px\" width=\"100%\"></iframe>"
      ],
      "text/plain": [
       "<plotly.tools.PlotlyDisplay object>"
      ]
     },
     "execution_count": 3,
     "metadata": {},
     "output_type": "execute_result"
    }
   ],
   "source": [
    "import plotly.plotly as py\n",
    "import plotly.graph_objs as graph_objs\n",
    "\n",
    "mapbox_access_token = \"ENTER_YOUR_MAPBOX_TOKEN_HERE\"\n",
    "\n",
    "data = graph_objs.Data([\n",
    "    graph_objs.Scattermapbox(\n",
    "        lat=['32.7157'],\n",
    "        lon=['-117.1611'],\n",
    "        mode='markers'\n",
    "    )\n",
    "])\n",
    "layout = graph_objs.Layout(\n",
    "    title='Choropleth of Zillow Price to Rent Ratio by San Diego County Zipcode',\n",
    "    height=600,\n",
    "    autosize=True,\n",
    "    hovermode='closest',\n",
    "    mapbox=dict(\n",
    "        layers=[\n",
    "            dict(\n",
    "                sourcetype = 'geojson',\n",
    "                source = 'https://raw.githubusercontent.com/brianjester/choropleth/master/SanDiegoZipCodes.geojson',\n",
    "                type = 'line',\n",
    "                color = 'rgba(128,128,128,0.8)'\n",
    "            ),\n",
    "            dict(\n",
    "                sourcetype = 'geojson',\n",
    "                source = 'https://raw.githubusercontent.com/brianjester/choropleth/master/sd-green-data.json',\n",
    "                type = 'fill',\n",
    "                color = 'rgba(0,255,0,0.8)'\n",
    "            ),\n",
    "            dict(\n",
    "                sourcetype = 'geojson',\n",
    "                source = 'https://raw.githubusercontent.com/brianjester/choropleth/master/sd-olive-data.json',\n",
    "                type = 'fill',\n",
    "                color = 'rgba(191,255,0,0.8)'\n",
    "            ),\n",
    "            dict(\n",
    "                sourcetype = 'geojson',\n",
    "                source = 'https://raw.githubusercontent.com/brianjester/choropleth/master/sd-yellow-data.json',\n",
    "                type = 'fill',\n",
    "                color = 'rgba(255,255,0,0.8)'\n",
    "            ),\n",
    "            dict(\n",
    "                sourcetype = 'geojson',\n",
    "                source = 'https://raw.githubusercontent.com/brianjester/choropleth/master/sd-orange-data.json',\n",
    "                type = 'fill',\n",
    "                color = 'rgba(255,128,0,0.8)'\n",
    "            ),\n",
    "            dict(\n",
    "                sourcetype = 'geojson',\n",
    "                source = 'https://raw.githubusercontent.com/brianjester/choropleth/master/sd-red-data.json',\n",
    "                type = 'fill',\n",
    "                color = 'rgba(255,0,0,0.8)'\n",
    "            )\n",
    "        ],\n",
    "        accesstoken=mapbox_access_token,\n",
    "        bearing=0,\n",
    "        center=dict(\n",
    "            lat=32.7157,\n",
    "            lon=-117.1611\n",
    "        ),\n",
    "        pitch=0,\n",
    "        zoom=7,\n",
    "        style='light'\n",
    "    ),\n",
    ")\n",
    "\n",
    "fig = dict(data=data, layout=layout)\n",
    "py.iplot(fig, filename='zip-level-choropleths-python')\n",
    "\n"
   ]
  },
  {
   "cell_type": "markdown",
   "metadata": {},
   "source": [
    "Suggested improvements: Add a legend, add Zip code numbers to the map"
   ]
  }
 ],
 "metadata": {
  "kernelspec": {
   "display_name": "Python 2",
   "language": "python",
   "name": "python2"
  },
  "language_info": {
   "codemirror_mode": {
    "name": "ipython",
    "version": 2
   },
   "file_extension": ".py",
   "mimetype": "text/x-python",
   "name": "python",
   "nbconvert_exporter": "python",
   "pygments_lexer": "ipython2",
   "version": "2.7.15"
  }
 },
 "nbformat": 4,
 "nbformat_minor": 1
}
